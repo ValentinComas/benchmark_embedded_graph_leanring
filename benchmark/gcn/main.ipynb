{
 "nbformat": 4,
 "nbformat_minor": 2,
 "metadata": {
  "language_info": {
   "name": "python",
   "codemirror_mode": {
    "name": "ipython",
    "version": 3
   },
   "version": "3.7.1-final"
  },
  "orig_nbformat": 2,
  "file_extension": ".py",
  "mimetype": "text/x-python",
  "name": "python",
  "npconvert_exporter": "python",
  "pygments_lexer": "ipython3",
  "version": 3,
  "kernelspec": {
   "name": "python37164bitenvgnnvirtualenva147a8d579454da1afc29f9acf478ea5",
   "display_name": "Python 3.7.1 64-bit ('envGNN': virtualenv)"
  }
 },
 "cells": [
  {
   "cell_type": "code",
   "execution_count": null,
   "metadata": {},
   "outputs": [
    {
     "ename": "Error",
     "evalue": "Jupyter notebook failed to launch. \r\nError: Jupyter server crashed. Unable to connect. \r\nError code from jupyter: 0\nFailed to run jupyter as observable with args notebook --no-browser --notebook-dir=C:\\Users\\comas\\AppData\\Local\\Temp\\0f103f53-6285-44a8-9e8b-b2080e258c3b --config=C:\\Users\\comas\\AppData\\Local\\Temp\\0f103f53-6285-44a8-9e8b-b2080e258c3b\\jupyter_notebook_config.py --NotebookApp.iopub_data_rate_limit=10000000000.0\n",
     "output_type": "error",
     "traceback": [
      "Error: Jupyter notebook failed to launch.",
      "Error: Jupyter server crashed. Unable to connect.",
      "Error code from jupyter: 0",
      "Failed to run jupyter as observable with args notebook --no-browser --notebook-dir=C:\\Users\\comas\\AppData\\Local\\Temp\\0f103f53-6285-44a8-9e8b-b2080e258c3b --config=C:\\Users\\comas\\AppData\\Local\\Temp\\0f103f53-6285-44a8-9e8b-b2080e258c3b\\jupyter_notebook_config.py --NotebookApp.iopub_data_rate_limit=10000000000.0",
      "at E.start (c:\\Users\\comas\\.vscode\\extensions\\ms-python.python-2020.2.64397\\out\\client\\extension.js:1:825656)"
     ]
    }
   ],
   "source": [
    "from __future__ import division\n",
    "from __future__ import print_function\n",
    "\n",
    "import time\n",
    "import argparse\n",
    "import numpy as np\n",
    "\n",
    "import torch\n",
    "import torch.nn.functional as F\n",
    "import torch.optim as optim\n",
    "\n",
    "from pygcn.utils import load_data, accuracy\n",
    "from pygcn.models import GCN"
   ]
  },
  {
   "cell_type": "code",
   "execution_count": 14,
   "metadata": {},
   "outputs": [
    {
     "name": "stdout",
     "output_type": "stream",
     "text": "Loading cora dataset...\n"
    }
   ],
   "source": [
    "fastmode = False\n",
    "epochs = 500\n",
    "lr = 0.01\n",
    "weight_decay = 5e-4\n",
    "hidden = 16\n",
    "dropout = 0.5\n",
    "\n",
    "cuda = torch.cuda.is_available()\n",
    "\n",
    "np.random.seed(3)\n",
    "torch.manual_seed(3)\n",
    "if cuda:\n",
    "    torch.cuda.manual_seed(3)\n",
    "\n",
    "# Load data\n",
    "adj, features, labels, idx_train, idx_val, idx_test = load_data(path=\"D:/M2/Stage/code/benchmark_embedded_graph_learning/benchmark/gcn/data/cora/\", dataset=\"cora\")\n",
    "print(\"Finished loading\")\n",
    "def test():\n",
    "    model.eval()\n",
    "    output = model(features, adj)\n",
    "    loss_test = F.nll_loss(output[idx_test], labels[idx_test])\n",
    "    acc_test = accuracy(output[idx_test], labels[idx_test])\n",
    "    print(\"Test set results:\",\n",
    "        \"loss= {:.4f}\".format(loss_test.item()),\n",
    "        \"accuracy= {:.4f}\".format(acc_test.item()))\n",
    "    return loss_test.item(), acc_test.item()\n",
    "\n",
    "def train(epoch):\n",
    "    t = time.time()\n",
    "    model.train()\n",
    "    optimizer.zero_grad()\n",
    "    output = model(features, adj)\n",
    "    loss_train = F.nll_loss(output[idx_train], labels[idx_train])\n",
    "    acc_train = accuracy(output[idx_train], labels[idx_train])\n",
    "    loss_train.backward()\n",
    "    optimizer.step()\n",
    "\n",
    "    if not fastmode:\n",
    "        # Evaluate validation set performance separately,\n",
    "        # deactivates dropout during validation run.\n",
    "        model.eval()\n",
    "        output = model(features, adj)\n",
    "\n",
    "    loss_val = F.nll_loss(output[idx_val], labels[idx_val])\n",
    "    acc_val = accuracy(output[idx_val], labels[idx_val])\n",
    "    print('Epoch: {:04d}'.format(epoch+1),\n",
    "        'loss_train: {:.4f}'.format(loss_train.item()),\n",
    "        'acc_train: {:.4f}'.format(acc_train.item()),\n",
    "        'loss_val: {:.4f}'.format(loss_val.item()),\n",
    "        'acc_val: {:.4f}'.format(acc_val.item()),\n",
    "        'time: {:.4f}s'.format(time.time() - t))\n"
   ]
  },
  {
   "cell_type": "code",
   "execution_count": null,
   "metadata": {},
   "outputs": [],
   "source": [
    "tab_acc = []\n",
    "tab_loss = []\n",
    "tab_ep = []\n",
    "\n",
    "for i in range(1,10):\n",
    "    # Model and optimizer\n",
    "    model = GCN(nfeat=features.shape[1],\n",
    "                nhid=hidden,\n",
    "                nclass=labels.max().item() + 1,\n",
    "                dropout=dropout)\n",
    "    optimizer = optim.Adam(model.parameters(),\n",
    "                        lr=lr, weight_decay=weight_decay)\n",
    "\n",
    "    if cuda:\n",
    "        model.cuda()\n",
    "        features = features.cuda()\n",
    "        adj = adj.cuda()\n",
    "        labels = labels.cuda()\n",
    "        idx_train = idx_train.cuda()\n",
    "        idx_val = idx_val.cuda()\n",
    "        idx_test = idx_test.cuda()\n",
    "\n",
    "    # Train model\n",
    "    t_total = time.time()\n",
    "    for epoch in range(epochs * i):\n",
    "        train(epoch)\n",
    "    print(\"Optimization Finished!\")\n",
    "    print(\"Total time elapsed: {:.4f}s\".format(time.time() - t_total))\n",
    "\n",
    "    # Testing\n",
    "    loss, acc = test()\n",
    "    tab_acc.append(acc)\n",
    "    tab_loss.append(loss)\n",
    "    tab_ep.append(epochs * i)\n",
    "plt.plot(tab_ep, tab_acc, linewidth=1.0, linestyle=\"-\")\n",
    "plt.plot(tab_ep, tab_loss, linewidth=1.0, linestyle=\"-\")"
   ]
  },
  {
   "cell_type": "code",
   "execution_count": null,
   "metadata": {},
   "outputs": [],
   "source": []
  }
 ]
}